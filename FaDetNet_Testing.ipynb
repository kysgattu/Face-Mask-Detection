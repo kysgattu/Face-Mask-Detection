{
 "cells": [
  {
   "cell_type": "code",
   "execution_count": 3,
   "metadata": {},
   "outputs": [],
   "source": [
    "import numpy as np\n",
    "import matplotlib.pyplot as plt\n",
    "import os\n",
    "from keras.preprocessing.image import ImageDataGenerator\n",
    "from tensorflow.keras.models import load_model\n",
    "from keras.preprocessing.image import load_img , img_to_array\n",
    "import cv2\n",
    "from keras.preprocessing.image import load_img , img_to_array"
   ]
  },
  {
   "cell_type": "code",
   "execution_count": 33,
   "metadata": {},
   "outputs": [],
   "source": [
    "model=load_model('FaDetNet.h5')"
   ]
  },
  {
   "cell_type": "code",
   "execution_count": 35,
   "metadata": {},
   "outputs": [
    {
     "name": "stdout",
     "output_type": "stream",
     "text": [
      "m\n",
      "m\n",
      "m\n",
      "m\n",
      "m\n",
      "MASK ON\n"
     ]
    }
   ],
   "source": [
    "camera = cv2.VideoCapture(0)\n",
    "mask=0\n",
    "nomask=0\n",
    "for i in range(5):\n",
    "    return_value, image = camera.read()\n",
    "    cv2.imwrite(os.path.join('input/' , 'opencv'+str(i)+'.png'), image)\n",
    "    #cv2.imwrite(os.path.join('input/' , 'img.{}.jpg'.format(n)),transfer)\n",
    "    #img_path='/content/'+fname\n",
    "    img = load_img('input/opencv%d.png'%(i) , target_size=(150,150))\n",
    "    images = img_to_array(img)\n",
    "    images=np.expand_dims(images,axis=0)\n",
    "    prediction = model.predict(images)\n",
    "    if prediction==0:\n",
    "        mask=mask+1\n",
    "        print('m')\n",
    "    else:\n",
    "        nomask=nomask+1\n",
    "        print('n')\n",
    "if mask>nomask:\n",
    "    print('MASK ON')\n",
    "else:\n",
    "    print('MASK OFF')\n",
    "\n",
    "del(camera)\n"
   ]
  }
 ],
 "metadata": {
  "kernelspec": {
   "display_name": "Python 3",
   "language": "python",
   "name": "python3"
  },
  "language_info": {
   "codemirror_mode": {
    "name": "ipython",
    "version": 3
   },
   "file_extension": ".py",
   "mimetype": "text/x-python",
   "name": "python",
   "nbconvert_exporter": "python",
   "pygments_lexer": "ipython3",
   "version": "3.8.5"
  }
 },
 "nbformat": 4,
 "nbformat_minor": 4
}
