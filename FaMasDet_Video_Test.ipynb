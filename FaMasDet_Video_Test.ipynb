{
 "cells": [
  {
   "cell_type": "code",
   "execution_count": 1,
   "metadata": {},
   "outputs": [],
   "source": [
    "import os\n",
    "import cv2\n",
    "from tensorflow.keras.models import load_model\n",
    "from keras.preprocessing.image import load_img , img_to_array\n",
    "import numpy as np"
   ]
  },
  {
   "cell_type": "code",
   "execution_count": 2,
   "metadata": {},
   "outputs": [],
   "source": [
    "model =load_model('FaDetNet.h5')\n",
    "face_cascade = cv2.CascadeClassifier('haarcascade_frontalface_default.xml')"
   ]
  },
  {
   "cell_type": "code",
   "execution_count": 3,
   "metadata": {},
   "outputs": [
    {
     "name": "stdout",
     "output_type": "stream",
     "text": [
      "The video was successfully saved\n"
     ]
    }
   ],
   "source": [
    "video = cv2.VideoCapture(0) \n",
    "if (video.isOpened() == False):  \n",
    "    print(\"Error reading video file\") \n",
    "#set resolution\n",
    "frame_width = int(video.get(3)) \n",
    "frame_height = int(video.get(4)) \n",
    "size = (frame_width, frame_height) \n",
    "result = cv2.VideoWriter(os.path.join('input/' , 'vid.mp4'), cv2.VideoWriter_fourcc(*'MJPG'), 30, size) \n",
    "    \n",
    "while(True): \n",
    "    ret, frame = video.read() \n",
    "  \n",
    "    if ret == True:  \n",
    "        result.write(frame) \n",
    "        cv2.imshow('Frame', frame) \n",
    "        if cv2.waitKey(1) & 0xFF == ord('s'): \n",
    "            break\n",
    "    else: \n",
    "        break\n",
    "\n",
    "video.release() \n",
    "result.release() \n",
    "cv2.destroyAllWindows() \n",
    "   \n",
    "print(\"The video was successfully saved\")"
   ]
  },
  {
   "cell_type": "code",
   "execution_count": 4,
   "metadata": {},
   "outputs": [],
   "source": [
    "img_width , img_height = 150,150\n",
    "cap = cv2.VideoCapture('input/vid.mp4')\n",
    "img_count_full = 0\n",
    "\n",
    "font = cv2.FONT_HERSHEY_SIMPLEX\n",
    "org = (1,1)\n",
    "class_label = ''\n",
    "fontScale = 1\n",
    "color = (255,0,0)\n",
    "thickness = 2"
   ]
  },
  {
   "cell_type": "code",
   "execution_count": 5,
   "metadata": {},
   "outputs": [],
   "source": [
    "while True:\n",
    "    img_count_full += 1\n",
    "    response , color_img = cap.read()\n",
    "\n",
    "    if response == False:\n",
    "        break\n",
    "\n",
    "\n",
    "    scale = 50\n",
    "    width = int(color_img.shape[1]*scale /100)\n",
    "    height = int(color_img.shape[0]*scale/100)\n",
    "    dim = (width,height)\n",
    "\n",
    "    color_img = cv2.resize(color_img, dim ,interpolation= cv2.INTER_AREA)\n",
    "\n",
    "    gray_img = cv2.cvtColor(color_img,cv2.COLOR_BGR2GRAY)\n",
    "\n",
    "    faces = face_cascade.detectMultiScale(gray_img, 1.1, 6)\n",
    "\n",
    "    img_count = 0\n",
    "    for (x,y,w,h) in faces:\n",
    "        org = (x-10,y-10)\n",
    "        img_count += 1\n",
    "        color_face = color_img[y:y+h,x:x+w]\n",
    "        cv2.imwrite('input/%d%dface.jpg'%(img_count_full,img_count),color_face)\n",
    "        img = load_img('input/%d%dface.jpg'%(img_count_full,img_count),target_size=(img_width,img_height))\n",
    "        img = img_to_array(img)\n",
    "        img = np.expand_dims(img,axis=0)\n",
    "        prediction = model.predict(img)\n",
    "\n",
    "\n",
    "        if prediction==0:\n",
    "            class_label = \"Mask\"\n",
    "            color = (255,0,0)\n",
    "\n",
    "        else:\n",
    "            class_label = \"No Mask\"\n",
    "            color = (0,255,0)\n",
    "\n",
    "\n",
    "        cv2.rectangle(color_img,(x,y),(x+w,y+h),(0,0,255),3)\n",
    "        cv2.putText(color_img, class_label, org, font ,fontScale, color, thickness,cv2.LINE_AA)\n",
    "\n",
    "    cv2.imshow('Face mask detection', color_img)\n",
    "    if cv2.waitKey(1) & 0xFF == ord('q'):\n",
    "        break\n",
    "\n",
    "cap.release()\n",
    "cv2.destroyAllWindows()"
   ]
  },
  {
   "cell_type": "code",
   "execution_count": null,
   "metadata": {},
   "outputs": [],
   "source": []
  }
 ],
 "metadata": {
  "kernelspec": {
   "display_name": "Python 3",
   "language": "python",
   "name": "python3"
  },
  "language_info": {
   "codemirror_mode": {
    "name": "ipython",
    "version": 3
   },
   "file_extension": ".py",
   "mimetype": "text/x-python",
   "name": "python",
   "nbconvert_exporter": "python",
   "pygments_lexer": "ipython3",
   "version": "3.8.5"
  }
 },
 "nbformat": 4,
 "nbformat_minor": 4
}
